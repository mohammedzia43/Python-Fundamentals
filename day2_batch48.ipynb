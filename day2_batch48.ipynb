{
 "cells": [
  {
   "cell_type": "code",
   "execution_count": 1,
   "id": "northern-chicken",
   "metadata": {},
   "outputs": [],
   "source": [
    "using variables in Python\n",
    "a = 10\n",
    "b = 20\n"
   ]
  },
  {
   "cell_type": "code",
   "execution_count": 2,
   "id": "official-connecticut",
   "metadata": {},
   "outputs": [],
   "source": [
    "c = a + b"
   ]
  },
  {
   "cell_type": "code",
   "execution_count": 3,
   "id": "organized-rubber",
   "metadata": {},
   "outputs": [
    {
     "name": "stdout",
     "output_type": "stream",
     "text": [
      "30\n"
     ]
    }
   ],
   "source": [
    "print(c)"
   ]
  },
  {
   "cell_type": "code",
   "execution_count": 4,
   "id": "silent-briefs",
   "metadata": {},
   "outputs": [
    {
     "ename": "SyntaxError",
     "evalue": "invalid syntax (<ipython-input-4-128c118972b6>, line 1)",
     "output_type": "error",
     "traceback": [
      "\u001b[0;36m  File \u001b[0;32m\"<ipython-input-4-128c118972b6>\"\u001b[0;36m, line \u001b[0;32m1\u001b[0m\n\u001b[0;31m    No name spaces while declaring a variable\u001b[0m\n\u001b[0m          ^\u001b[0m\n\u001b[0;31mSyntaxError\u001b[0m\u001b[0;31m:\u001b[0m invalid syntax\n"
     ]
    }
   ],
   "source": [
    "No name spaces while declaring a variable\n",
    "name temp = 'john'\n"
   ]
  },
  {
   "cell_type": "code",
   "execution_count": 5,
   "id": "careful-valley",
   "metadata": {},
   "outputs": [],
   "source": [
    "name_temp='john'"
   ]
  },
  {
   "cell_type": "code",
   "execution_count": 6,
   "id": "structured-worship",
   "metadata": {},
   "outputs": [
    {
     "name": "stdout",
     "output_type": "stream",
     "text": [
      "john\n"
     ]
    }
   ],
   "source": [
    "print(name_temp)"
   ]
  },
  {
   "cell_type": "code",
   "execution_count": 16,
   "id": "encouraging-departure",
   "metadata": {},
   "outputs": [
    {
     "ename": "SyntaxError",
     "evalue": "invalid syntax (<ipython-input-16-c65d691b647b>, line 1)",
     "output_type": "error",
     "traceback": [
      "\u001b[0;36m  File \u001b[0;32m\"<ipython-input-16-c65d691b647b>\"\u001b[0;36m, line \u001b[0;32m1\u001b[0m\n\u001b[0;31m    1name='smith'\u001b[0m\n\u001b[0m        ^\u001b[0m\n\u001b[0;31mSyntaxError\u001b[0m\u001b[0;31m:\u001b[0m invalid syntax\n"
     ]
    }
   ],
   "source": [
    "1name='smith'"
   ]
  },
  {
   "cell_type": "code",
   "execution_count": 13,
   "id": "earned-kelly",
   "metadata": {},
   "outputs": [],
   "source": [
    "name1 = 'smith'"
   ]
  },
  {
   "cell_type": "code",
   "execution_count": null,
   "id": "equal-transfer",
   "metadata": {},
   "outputs": [],
   "source": [
    "Variable name should not contain any special characters (* @ # $etc)"
   ]
  },
  {
   "cell_type": "code",
   "execution_count": 29,
   "id": "exempt-runner",
   "metadata": {},
   "outputs": [
    {
     "ename": "SyntaxError",
     "evalue": "can't assign to operator (<ipython-input-29-ac5d96a8e3e9>, line 1)",
     "output_type": "error",
     "traceback": [
      "\u001b[0;36m  File \u001b[0;32m\"<ipython-input-29-ac5d96a8e3e9>\"\u001b[0;36m, line \u001b[0;32m1\u001b[0m\n\u001b[0;31m    per*son='david'\u001b[0m\n\u001b[0m                   ^\u001b[0m\n\u001b[0;31mSyntaxError\u001b[0m\u001b[0;31m:\u001b[0m can't assign to operator\n"
     ]
    }
   ],
   "source": [
    "per*son='david'"
   ]
  },
  {
   "cell_type": "code",
   "execution_count": null,
   "id": "individual-dancing",
   "metadata": {},
   "outputs": [],
   "source": [
    "Data types in Python\n",
    "1) String\n",
    "2) List\n",
    "3) Tuple\n",
    "4) Dictionaries\n",
    "5) Number -> Integers and float"
   ]
  },
  {
   "cell_type": "code",
   "execution_count": null,
   "id": "sitting-decision",
   "metadata": {},
   "outputs": [],
   "source": [
    "String : Series of characters enclosed in quotes\n",
    "    Possible approaces\n",
    "    1. Single quote -> 'John'\n",
    "    2. Double quotes -> \"david\"\n",
    "    3. Triple quotes -> \"\"\"Shoaib\"\"\""
   ]
  },
  {
   "cell_type": "code",
   "execution_count": null,
   "id": "numerical-peeing",
   "metadata": {},
   "outputs": [],
   "source": [
    "String methods\n",
    "1. type()-> used to confirm the datatype "
   ]
  },
  {
   "cell_type": "code",
   "execution_count": 30,
   "id": "written-salmon",
   "metadata": {},
   "outputs": [
    {
     "data": {
      "text/plain": [
       "int"
      ]
     },
     "execution_count": 30,
     "metadata": {},
     "output_type": "execute_result"
    }
   ],
   "source": [
    "type(c)"
   ]
  },
  {
   "cell_type": "code",
   "execution_count": 31,
   "id": "delayed-retreat",
   "metadata": {},
   "outputs": [
    {
     "data": {
      "text/plain": [
       "str"
      ]
     },
     "execution_count": 31,
     "metadata": {},
     "output_type": "execute_result"
    }
   ],
   "source": [
    "type(name_temp)"
   ]
  },
  {
   "cell_type": "code",
   "execution_count": null,
   "id": "informational-insulation",
   "metadata": {},
   "outputs": [],
   "source": []
  }
 ],
 "metadata": {
  "kernelspec": {
   "display_name": "Python 3",
   "language": "python",
   "name": "python3"
  },
  "language_info": {
   "codemirror_mode": {
    "name": "ipython",
    "version": 3
   },
   "file_extension": ".py",
   "mimetype": "text/x-python",
   "name": "python",
   "nbconvert_exporter": "python",
   "pygments_lexer": "ipython3",
   "version": "3.6.13"
  }
 },
 "nbformat": 4,
 "nbformat_minor": 5
}
